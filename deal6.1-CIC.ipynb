{
 "cells": [
  {
   "cell_type": "code",
   "execution_count": 1,
   "id": "0dc93dfa-a692-4995-8548-21b626c4a3e6",
   "metadata": {},
   "outputs": [],
   "source": [
    "setwd('/data/import/project1/momo-6.12.0.199/runtime/PIPELINE/taxonkit1/a.ji/data2/')"
   ]
  },
  {
   "cell_type": "code",
   "execution_count": 2,
   "id": "3b639180-80e8-4cd0-8144-a7c7ef708458",
   "metadata": {},
   "outputs": [
    {
     "name": "stderr",
     "output_type": "stream",
     "text": [
      "Warning message:\n",
      "\"package 'openxlsx' was built under R version 4.2.3\"\n",
      "\n",
      "Attaching package: 'dplyr'\n",
      "\n",
      "\n",
      "The following objects are masked from 'package:stats':\n",
      "\n",
      "    filter, lag\n",
      "\n",
      "\n",
      "The following objects are masked from 'package:dbplyr':\n",
      "\n",
      "    ident, sql\n",
      "\n",
      "\n",
      "The following objects are masked from 'package:base':\n",
      "\n",
      "    intersect, setdiff, setequal, union\n",
      "\n",
      "\n"
     ]
    },
    {
     "data": {
      "text/html": [
       "<table class=\"dataframe\">\n",
       "<caption>A data.frame: 2 x 75</caption>\n",
       "<thead>\n",
       "\t<tr><th></th><th scope=col>Gene_name</th><th scope=col>C10</th><th scope=col>C11</th><th scope=col>C12</th><th scope=col>C13</th><th scope=col>C14</th><th scope=col>C15</th><th scope=col>C16</th><th scope=col>C17</th><th scope=col>C18</th><th scope=col>...</th><th scope=col>CI41</th><th scope=col>CI42</th><th scope=col>CI43</th><th scope=col>CI44</th><th scope=col>CI4</th><th scope=col>CI5</th><th scope=col>CI6</th><th scope=col>CI7</th><th scope=col>CI8</th><th scope=col>CI9</th></tr>\n",
       "\t<tr><th></th><th scope=col>&lt;chr&gt;</th><th scope=col>&lt;dbl&gt;</th><th scope=col>&lt;dbl&gt;</th><th scope=col>&lt;dbl&gt;</th><th scope=col>&lt;dbl&gt;</th><th scope=col>&lt;dbl&gt;</th><th scope=col>&lt;dbl&gt;</th><th scope=col>&lt;dbl&gt;</th><th scope=col>&lt;dbl&gt;</th><th scope=col>&lt;dbl&gt;</th><th scope=col>...</th><th scope=col>&lt;dbl&gt;</th><th scope=col>&lt;dbl&gt;</th><th scope=col>&lt;dbl&gt;</th><th scope=col>&lt;dbl&gt;</th><th scope=col>&lt;dbl&gt;</th><th scope=col>&lt;dbl&gt;</th><th scope=col>&lt;dbl&gt;</th><th scope=col>&lt;dbl&gt;</th><th scope=col>&lt;dbl&gt;</th><th scope=col>&lt;dbl&gt;</th></tr>\n",
       "</thead>\n",
       "<tbody>\n",
       "\t<tr><th scope=row>1</th><td>ZZZ3 </td><td> 9.694104</td><td> 8.204165</td><td> 9.569441</td><td> 6.659882</td><td> 5.449594</td><td> 8.611691</td><td> 6.886018</td><td> 5.389103</td><td> 5.336686</td><td>...</td><td>14.880933</td><td> 8.037799</td><td> 5.667441</td><td>11.80003</td><td> 6.659176</td><td> 5.785232</td><td> 8.749977</td><td>11.03076</td><td> 8.004704</td><td>10.07247</td></tr>\n",
       "\t<tr><th scope=row>2</th><td>ZZEF1</td><td>18.515927</td><td>18.296195</td><td>19.053030</td><td>18.403302</td><td>19.992571</td><td>18.649972</td><td>19.680564</td><td>20.438019</td><td>19.539639</td><td>...</td><td> 8.751292</td><td>17.115120</td><td>16.585566</td><td>16.60637</td><td>18.344102</td><td>21.665904</td><td>21.333761</td><td>20.21582</td><td>17.918223</td><td>13.92859</td></tr>\n",
       "</tbody>\n",
       "</table>\n"
      ],
      "text/latex": [
       "A data.frame: 2 x 75\n",
       "\\begin{tabular}{r|lllllllllllllllllllll}\n",
       "  & Gene\\_name & C10 & C11 & C12 & C13 & C14 & C15 & C16 & C17 & C18 & ... & CI41 & CI42 & CI43 & CI44 & CI4 & CI5 & CI6 & CI7 & CI8 & CI9\\\\\n",
       "  & <chr> & <dbl> & <dbl> & <dbl> & <dbl> & <dbl> & <dbl> & <dbl> & <dbl> & <dbl> & ... & <dbl> & <dbl> & <dbl> & <dbl> & <dbl> & <dbl> & <dbl> & <dbl> & <dbl> & <dbl>\\\\\n",
       "\\hline\n",
       "\t1 & ZZZ3  &  9.694104 &  8.204165 &  9.569441 &  6.659882 &  5.449594 &  8.611691 &  6.886018 &  5.389103 &  5.336686 & ... & 14.880933 &  8.037799 &  5.667441 & 11.80003 &  6.659176 &  5.785232 &  8.749977 & 11.03076 &  8.004704 & 10.07247\\\\\n",
       "\t2 & ZZEF1 & 18.515927 & 18.296195 & 19.053030 & 18.403302 & 19.992571 & 18.649972 & 19.680564 & 20.438019 & 19.539639 & ... &  8.751292 & 17.115120 & 16.585566 & 16.60637 & 18.344102 & 21.665904 & 21.333761 & 20.21582 & 17.918223 & 13.92859\\\\\n",
       "\\end{tabular}\n"
      ],
      "text/markdown": [
       "\n",
       "A data.frame: 2 x 75\n",
       "\n",
       "| <!--/--> | Gene_name &lt;chr&gt; | C10 &lt;dbl&gt; | C11 &lt;dbl&gt; | C12 &lt;dbl&gt; | C13 &lt;dbl&gt; | C14 &lt;dbl&gt; | C15 &lt;dbl&gt; | C16 &lt;dbl&gt; | C17 &lt;dbl&gt; | C18 &lt;dbl&gt; | ... ... | CI41 &lt;dbl&gt; | CI42 &lt;dbl&gt; | CI43 &lt;dbl&gt; | CI44 &lt;dbl&gt; | CI4 &lt;dbl&gt; | CI5 &lt;dbl&gt; | CI6 &lt;dbl&gt; | CI7 &lt;dbl&gt; | CI8 &lt;dbl&gt; | CI9 &lt;dbl&gt; |\n",
       "|---|---|---|---|---|---|---|---|---|---|---|---|---|---|---|---|---|---|---|---|---|---|\n",
       "| 1 | ZZZ3  |  9.694104 |  8.204165 |  9.569441 |  6.659882 |  5.449594 |  8.611691 |  6.886018 |  5.389103 |  5.336686 | ... | 14.880933 |  8.037799 |  5.667441 | 11.80003 |  6.659176 |  5.785232 |  8.749977 | 11.03076 |  8.004704 | 10.07247 |\n",
       "| 2 | ZZEF1 | 18.515927 | 18.296195 | 19.053030 | 18.403302 | 19.992571 | 18.649972 | 19.680564 | 20.438019 | 19.539639 | ... |  8.751292 | 17.115120 | 16.585566 | 16.60637 | 18.344102 | 21.665904 | 21.333761 | 20.21582 | 17.918223 | 13.92859 |\n",
       "\n"
      ],
      "text/plain": [
       "  Gene_name C10       C11       C12       C13       C14       C15      \n",
       "1 ZZZ3       9.694104  8.204165  9.569441  6.659882  5.449594  8.611691\n",
       "2 ZZEF1     18.515927 18.296195 19.053030 18.403302 19.992571 18.649972\n",
       "  C16       C17       C18       ... CI41      CI42      CI43      CI44    \n",
       "1  6.886018  5.389103  5.336686 ... 14.880933  8.037799  5.667441 11.80003\n",
       "2 19.680564 20.438019 19.539639 ...  8.751292 17.115120 16.585566 16.60637\n",
       "  CI4       CI5       CI6       CI7      CI8       CI9     \n",
       "1  6.659176  5.785232  8.749977 11.03076  8.004704 10.07247\n",
       "2 18.344102 21.665904 21.333761 20.21582 17.918223 13.92859"
      ]
     },
     "metadata": {},
     "output_type": "display_data"
    },
    {
     "data": {
      "text/html": [
       "<style>\n",
       ".list-inline {list-style: none; margin:0; padding: 0}\n",
       ".list-inline>li {display: inline-block}\n",
       ".list-inline>li:not(:last-child)::after {content: \"\\00b7\"; padding: 0 .5ex}\n",
       "</style>\n",
       "<ol class=list-inline><li>'ZNF480'</li><li>'ZNF354A'</li><li>'ZNF208'</li><li>'ZBED5'</li><li>'XRCC4'</li><li>'VCL'</li><li>'TXN'</li><li>'TLN1'</li><li>'TFEC'</li><li>'TAF7'</li><li>'SYCP2'</li><li>'SUMO4'</li><li>'STON2'</li><li>'SPON2'</li><li>'SPOCD1'</li><li>'SH3TC2'</li><li>'SH2D2A'</li><li>'SCN9A'</li><li>'SAMD9'</li><li>'RPL34'</li><li>'RASD2'</li><li>'PTPRS'</li><li>'PRF1'</li><li>'POLR2K'</li><li>'PITPNM2'</li><li>'PILRB'</li><li>'PER1'</li><li>'PDGFA'</li><li>'PCDH1'</li><li>'OSBPL7'</li><li>'OSBPL5'</li><li>'NID1'</li><li>'NCR3'</li><li>'MLC1'</li><li>'MAP1A'</li><li>'LSM3'</li><li>'LPAR6'</li><li>'LMNA'</li><li>'KIR2DL1'</li><li>'KIFC3'</li><li>'IL2RB'</li><li>'IGJ'</li><li>'HCFC1'</li><li>'GPR56'</li><li>'GNLY'</li><li>'GAPT'</li><li>'FSD1'</li><li>'FOSB'</li><li>'FLNA'</li><li>'FAM200B'</li><li>'F2R'</li><li>'EVI2A'</li><li>'ERBB2'</li><li>'DUSP2'</li><li>'DDIT4'</li><li>'DAB2'</li><li>'CSTA'</li><li>'CLSTN1'</li><li>'CLEC2B'</li><li>'CARNS1'</li><li>'CACNA2D2'</li><li>'BZRAP1'</li><li>'BMP6'</li><li>'BCL2A1'</li><li>'BAI2'</li><li>'ATP1A3'</li><li>'ATG2A'</li><li>'ARVCF'</li><li>'ARHGAP6'</li></ol>\n"
      ],
      "text/latex": [
       "\\begin{enumerate*}\n",
       "\\item 'ZNF480'\n",
       "\\item 'ZNF354A'\n",
       "\\item 'ZNF208'\n",
       "\\item 'ZBED5'\n",
       "\\item 'XRCC4'\n",
       "\\item 'VCL'\n",
       "\\item 'TXN'\n",
       "\\item 'TLN1'\n",
       "\\item 'TFEC'\n",
       "\\item 'TAF7'\n",
       "\\item 'SYCP2'\n",
       "\\item 'SUMO4'\n",
       "\\item 'STON2'\n",
       "\\item 'SPON2'\n",
       "\\item 'SPOCD1'\n",
       "\\item 'SH3TC2'\n",
       "\\item 'SH2D2A'\n",
       "\\item 'SCN9A'\n",
       "\\item 'SAMD9'\n",
       "\\item 'RPL34'\n",
       "\\item 'RASD2'\n",
       "\\item 'PTPRS'\n",
       "\\item 'PRF1'\n",
       "\\item 'POLR2K'\n",
       "\\item 'PITPNM2'\n",
       "\\item 'PILRB'\n",
       "\\item 'PER1'\n",
       "\\item 'PDGFA'\n",
       "\\item 'PCDH1'\n",
       "\\item 'OSBPL7'\n",
       "\\item 'OSBPL5'\n",
       "\\item 'NID1'\n",
       "\\item 'NCR3'\n",
       "\\item 'MLC1'\n",
       "\\item 'MAP1A'\n",
       "\\item 'LSM3'\n",
       "\\item 'LPAR6'\n",
       "\\item 'LMNA'\n",
       "\\item 'KIR2DL1'\n",
       "\\item 'KIFC3'\n",
       "\\item 'IL2RB'\n",
       "\\item 'IGJ'\n",
       "\\item 'HCFC1'\n",
       "\\item 'GPR56'\n",
       "\\item 'GNLY'\n",
       "\\item 'GAPT'\n",
       "\\item 'FSD1'\n",
       "\\item 'FOSB'\n",
       "\\item 'FLNA'\n",
       "\\item 'FAM200B'\n",
       "\\item 'F2R'\n",
       "\\item 'EVI2A'\n",
       "\\item 'ERBB2'\n",
       "\\item 'DUSP2'\n",
       "\\item 'DDIT4'\n",
       "\\item 'DAB2'\n",
       "\\item 'CSTA'\n",
       "\\item 'CLSTN1'\n",
       "\\item 'CLEC2B'\n",
       "\\item 'CARNS1'\n",
       "\\item 'CACNA2D2'\n",
       "\\item 'BZRAP1'\n",
       "\\item 'BMP6'\n",
       "\\item 'BCL2A1'\n",
       "\\item 'BAI2'\n",
       "\\item 'ATP1A3'\n",
       "\\item 'ATG2A'\n",
       "\\item 'ARVCF'\n",
       "\\item 'ARHGAP6'\n",
       "\\end{enumerate*}\n"
      ],
      "text/markdown": [
       "1. 'ZNF480'\n",
       "2. 'ZNF354A'\n",
       "3. 'ZNF208'\n",
       "4. 'ZBED5'\n",
       "5. 'XRCC4'\n",
       "6. 'VCL'\n",
       "7. 'TXN'\n",
       "8. 'TLN1'\n",
       "9. 'TFEC'\n",
       "10. 'TAF7'\n",
       "11. 'SYCP2'\n",
       "12. 'SUMO4'\n",
       "13. 'STON2'\n",
       "14. 'SPON2'\n",
       "15. 'SPOCD1'\n",
       "16. 'SH3TC2'\n",
       "17. 'SH2D2A'\n",
       "18. 'SCN9A'\n",
       "19. 'SAMD9'\n",
       "20. 'RPL34'\n",
       "21. 'RASD2'\n",
       "22. 'PTPRS'\n",
       "23. 'PRF1'\n",
       "24. 'POLR2K'\n",
       "25. 'PITPNM2'\n",
       "26. 'PILRB'\n",
       "27. 'PER1'\n",
       "28. 'PDGFA'\n",
       "29. 'PCDH1'\n",
       "30. 'OSBPL7'\n",
       "31. 'OSBPL5'\n",
       "32. 'NID1'\n",
       "33. 'NCR3'\n",
       "34. 'MLC1'\n",
       "35. 'MAP1A'\n",
       "36. 'LSM3'\n",
       "37. 'LPAR6'\n",
       "38. 'LMNA'\n",
       "39. 'KIR2DL1'\n",
       "40. 'KIFC3'\n",
       "41. 'IL2RB'\n",
       "42. 'IGJ'\n",
       "43. 'HCFC1'\n",
       "44. 'GPR56'\n",
       "45. 'GNLY'\n",
       "46. 'GAPT'\n",
       "47. 'FSD1'\n",
       "48. 'FOSB'\n",
       "49. 'FLNA'\n",
       "50. 'FAM200B'\n",
       "51. 'F2R'\n",
       "52. 'EVI2A'\n",
       "53. 'ERBB2'\n",
       "54. 'DUSP2'\n",
       "55. 'DDIT4'\n",
       "56. 'DAB2'\n",
       "57. 'CSTA'\n",
       "58. 'CLSTN1'\n",
       "59. 'CLEC2B'\n",
       "60. 'CARNS1'\n",
       "61. 'CACNA2D2'\n",
       "62. 'BZRAP1'\n",
       "63. 'BMP6'\n",
       "64. 'BCL2A1'\n",
       "65. 'BAI2'\n",
       "66. 'ATP1A3'\n",
       "67. 'ATG2A'\n",
       "68. 'ARVCF'\n",
       "69. 'ARHGAP6'\n",
       "\n",
       "\n"
      ],
      "text/plain": [
       " [1] \"ZNF480\"   \"ZNF354A\"  \"ZNF208\"   \"ZBED5\"    \"XRCC4\"    \"VCL\"     \n",
       " [7] \"TXN\"      \"TLN1\"     \"TFEC\"     \"TAF7\"     \"SYCP2\"    \"SUMO4\"   \n",
       "[13] \"STON2\"    \"SPON2\"    \"SPOCD1\"   \"SH3TC2\"   \"SH2D2A\"   \"SCN9A\"   \n",
       "[19] \"SAMD9\"    \"RPL34\"    \"RASD2\"    \"PTPRS\"    \"PRF1\"     \"POLR2K\"  \n",
       "[25] \"PITPNM2\"  \"PILRB\"    \"PER1\"     \"PDGFA\"    \"PCDH1\"    \"OSBPL7\"  \n",
       "[31] \"OSBPL5\"   \"NID1\"     \"NCR3\"     \"MLC1\"     \"MAP1A\"    \"LSM3\"    \n",
       "[37] \"LPAR6\"    \"LMNA\"     \"KIR2DL1\"  \"KIFC3\"    \"IL2RB\"    \"IGJ\"     \n",
       "[43] \"HCFC1\"    \"GPR56\"    \"GNLY\"     \"GAPT\"     \"FSD1\"     \"FOSB\"    \n",
       "[49] \"FLNA\"     \"FAM200B\"  \"F2R\"      \"EVI2A\"    \"ERBB2\"    \"DUSP2\"   \n",
       "[55] \"DDIT4\"    \"DAB2\"     \"CSTA\"     \"CLSTN1\"   \"CLEC2B\"   \"CARNS1\"  \n",
       "[61] \"CACNA2D2\" \"BZRAP1\"   \"BMP6\"     \"BCL2A1\"   \"BAI2\"     \"ATP1A3\"  \n",
       "[67] \"ATG2A\"    \"ARVCF\"    \"ARHGAP6\" "
      ]
     },
     "metadata": {},
     "output_type": "display_data"
    },
    {
     "data": {
      "text/html": [
       "<table class=\"dataframe\">\n",
       "<caption>A data.frame: 2 x 69</caption>\n",
       "<thead>\n",
       "\t<tr><th></th><th scope=col>ZNF480</th><th scope=col>ZNF354A</th><th scope=col>ZNF208</th><th scope=col>ZBED5</th><th scope=col>XRCC4</th><th scope=col>VCL</th><th scope=col>TXN</th><th scope=col>TLN1</th><th scope=col>TFEC</th><th scope=col>TAF7</th><th scope=col>...</th><th scope=col>CARNS1</th><th scope=col>CACNA2D2</th><th scope=col>BZRAP1</th><th scope=col>BMP6</th><th scope=col>BCL2A1</th><th scope=col>BAI2</th><th scope=col>ATP1A3</th><th scope=col>ATG2A</th><th scope=col>ARVCF</th><th scope=col>ARHGAP6</th></tr>\n",
       "\t<tr><th></th><th scope=col>&lt;dbl&gt;</th><th scope=col>&lt;dbl&gt;</th><th scope=col>&lt;dbl&gt;</th><th scope=col>&lt;dbl&gt;</th><th scope=col>&lt;dbl&gt;</th><th scope=col>&lt;dbl&gt;</th><th scope=col>&lt;dbl&gt;</th><th scope=col>&lt;dbl&gt;</th><th scope=col>&lt;dbl&gt;</th><th scope=col>&lt;dbl&gt;</th><th scope=col>...</th><th scope=col>&lt;dbl&gt;</th><th scope=col>&lt;dbl&gt;</th><th scope=col>&lt;dbl&gt;</th><th scope=col>&lt;dbl&gt;</th><th scope=col>&lt;dbl&gt;</th><th scope=col>&lt;dbl&gt;</th><th scope=col>&lt;dbl&gt;</th><th scope=col>&lt;dbl&gt;</th><th scope=col>&lt;dbl&gt;</th><th scope=col>&lt;dbl&gt;</th></tr>\n",
       "</thead>\n",
       "<tbody>\n",
       "\t<tr><th scope=row>C10</th><td>5.156136</td><td>5.125855</td><td>0.5392760</td><td>10.32473</td><td>2.339176</td><td>46.57527</td><td> 7.655688</td><td>101.2624</td><td>3.548980</td><td>14.05923</td><td>...</td><td>2.390462</td><td>2.652530</td><td>3.472469</td><td>5.936213</td><td>22.32717</td><td>0.2332996</td><td>0.8470702</td><td>13.04633</td><td>0.8559196</td><td>1.176161</td></tr>\n",
       "\t<tr><th scope=row>C11</th><td>5.341337</td><td>6.072094</td><td>0.3636642</td><td>10.90038</td><td>2.871262</td><td>51.53112</td><td>17.794071</td><td>101.7559</td><td>5.233879</td><td>18.91710</td><td>...</td><td>2.103993</td><td>4.407767</td><td>5.835689</td><td>3.418444</td><td>32.12134</td><td>0.1628312</td><td>0.9373913</td><td>15.02437</td><td>0.8992942</td><td>1.233943</td></tr>\n",
       "</tbody>\n",
       "</table>\n"
      ],
      "text/latex": [
       "A data.frame: 2 x 69\n",
       "\\begin{tabular}{r|lllllllllllllllllllll}\n",
       "  & ZNF480 & ZNF354A & ZNF208 & ZBED5 & XRCC4 & VCL & TXN & TLN1 & TFEC & TAF7 & ... & CARNS1 & CACNA2D2 & BZRAP1 & BMP6 & BCL2A1 & BAI2 & ATP1A3 & ATG2A & ARVCF & ARHGAP6\\\\\n",
       "  & <dbl> & <dbl> & <dbl> & <dbl> & <dbl> & <dbl> & <dbl> & <dbl> & <dbl> & <dbl> & ... & <dbl> & <dbl> & <dbl> & <dbl> & <dbl> & <dbl> & <dbl> & <dbl> & <dbl> & <dbl>\\\\\n",
       "\\hline\n",
       "\tC10 & 5.156136 & 5.125855 & 0.5392760 & 10.32473 & 2.339176 & 46.57527 &  7.655688 & 101.2624 & 3.548980 & 14.05923 & ... & 2.390462 & 2.652530 & 3.472469 & 5.936213 & 22.32717 & 0.2332996 & 0.8470702 & 13.04633 & 0.8559196 & 1.176161\\\\\n",
       "\tC11 & 5.341337 & 6.072094 & 0.3636642 & 10.90038 & 2.871262 & 51.53112 & 17.794071 & 101.7559 & 5.233879 & 18.91710 & ... & 2.103993 & 4.407767 & 5.835689 & 3.418444 & 32.12134 & 0.1628312 & 0.9373913 & 15.02437 & 0.8992942 & 1.233943\\\\\n",
       "\\end{tabular}\n"
      ],
      "text/markdown": [
       "\n",
       "A data.frame: 2 x 69\n",
       "\n",
       "| <!--/--> | ZNF480 &lt;dbl&gt; | ZNF354A &lt;dbl&gt; | ZNF208 &lt;dbl&gt; | ZBED5 &lt;dbl&gt; | XRCC4 &lt;dbl&gt; | VCL &lt;dbl&gt; | TXN &lt;dbl&gt; | TLN1 &lt;dbl&gt; | TFEC &lt;dbl&gt; | TAF7 &lt;dbl&gt; | ... ... | CARNS1 &lt;dbl&gt; | CACNA2D2 &lt;dbl&gt; | BZRAP1 &lt;dbl&gt; | BMP6 &lt;dbl&gt; | BCL2A1 &lt;dbl&gt; | BAI2 &lt;dbl&gt; | ATP1A3 &lt;dbl&gt; | ATG2A &lt;dbl&gt; | ARVCF &lt;dbl&gt; | ARHGAP6 &lt;dbl&gt; |\n",
       "|---|---|---|---|---|---|---|---|---|---|---|---|---|---|---|---|---|---|---|---|---|---|\n",
       "| C10 | 5.156136 | 5.125855 | 0.5392760 | 10.32473 | 2.339176 | 46.57527 |  7.655688 | 101.2624 | 3.548980 | 14.05923 | ... | 2.390462 | 2.652530 | 3.472469 | 5.936213 | 22.32717 | 0.2332996 | 0.8470702 | 13.04633 | 0.8559196 | 1.176161 |\n",
       "| C11 | 5.341337 | 6.072094 | 0.3636642 | 10.90038 | 2.871262 | 51.53112 | 17.794071 | 101.7559 | 5.233879 | 18.91710 | ... | 2.103993 | 4.407767 | 5.835689 | 3.418444 | 32.12134 | 0.1628312 | 0.9373913 | 15.02437 | 0.8992942 | 1.233943 |\n",
       "\n"
      ],
      "text/plain": [
       "    ZNF480   ZNF354A  ZNF208    ZBED5    XRCC4    VCL      TXN       TLN1    \n",
       "C10 5.156136 5.125855 0.5392760 10.32473 2.339176 46.57527  7.655688 101.2624\n",
       "C11 5.341337 6.072094 0.3636642 10.90038 2.871262 51.53112 17.794071 101.7559\n",
       "    TFEC     TAF7     ... CARNS1   CACNA2D2 BZRAP1   BMP6     BCL2A1  \n",
       "C10 3.548980 14.05923 ... 2.390462 2.652530 3.472469 5.936213 22.32717\n",
       "C11 5.233879 18.91710 ... 2.103993 4.407767 5.835689 3.418444 32.12134\n",
       "    BAI2      ATP1A3    ATG2A    ARVCF     ARHGAP6 \n",
       "C10 0.2332996 0.8470702 13.04633 0.8559196 1.176161\n",
       "C11 0.1628312 0.9373913 15.02437 0.8992942 1.233943"
      ]
     },
     "metadata": {},
     "output_type": "display_data"
    }
   ],
   "source": [
    "library(openxlsx)\n",
    "data<- read.xlsx(\"./res/CI-CTR/bulk/74-mRNA_FPKM.genename.xlsx\", sheet = 1)\n",
    "library(dplyr)\n",
    "\n",
    "overlap = read.table('./overlap.txt',header =T)\n",
    "\n",
    "data = data[!duplicated(data$Gene_name),]\n",
    "head(data,2)\n",
    "expr = data %>%  tibble::remove_rownames() %>% filter(Gene_name %in% overlap$GeneName) %>%  \n",
    "tibble::column_to_rownames(.,'Gene_name') %>% t() %>% as.data.frame()\n",
    "Group = c(rep('con',31),rep('CI',43))\n",
    "colnames(expr) = gsub('-','.',colnames(expr))\n",
    "colnames(expr)\n",
    "head(expr,2)\n",
    "Type = ifelse(Group == 'CI',1,0)\n",
    "nn = cbind(Type,expr)"
   ]
  },
  {
   "cell_type": "code",
   "execution_count": 3,
   "id": "dd713d9c-5704-4d48-8849-b943dd0ba8e5",
   "metadata": {},
   "outputs": [],
   "source": [
    "dcaData = nn[,c('Type','FAM200B','BCL2A1','IGJ','TXN')]"
   ]
  },
  {
   "cell_type": "code",
   "execution_count": 4,
   "id": "aef25635-e763-4c85-8d42-72fb84ac5416",
   "metadata": {},
   "outputs": [
    {
     "data": {
      "text/html": [
       "<table class=\"dataframe\">\n",
       "<caption>A data.frame: 3 x 5</caption>\n",
       "<thead>\n",
       "\t<tr><th></th><th scope=col>Type</th><th scope=col>FAM200B</th><th scope=col>BCL2A1</th><th scope=col>IGJ</th><th scope=col>TXN</th></tr>\n",
       "\t<tr><th></th><th scope=col>&lt;dbl&gt;</th><th scope=col>&lt;dbl&gt;</th><th scope=col>&lt;dbl&gt;</th><th scope=col>&lt;dbl&gt;</th><th scope=col>&lt;dbl&gt;</th></tr>\n",
       "</thead>\n",
       "<tbody>\n",
       "\t<tr><th scope=row>C10</th><td>0</td><td>4.886505</td><td>22.32717</td><td>21.40125</td><td> 7.655688</td></tr>\n",
       "\t<tr><th scope=row>C11</th><td>0</td><td>6.201921</td><td>32.12134</td><td>21.30293</td><td>17.794071</td></tr>\n",
       "\t<tr><th scope=row>C12</th><td>0</td><td>5.778473</td><td>20.78413</td><td>22.04342</td><td>13.325481</td></tr>\n",
       "</tbody>\n",
       "</table>\n"
      ],
      "text/latex": [
       "A data.frame: 3 x 5\n",
       "\\begin{tabular}{r|lllll}\n",
       "  & Type & FAM200B & BCL2A1 & IGJ & TXN\\\\\n",
       "  & <dbl> & <dbl> & <dbl> & <dbl> & <dbl>\\\\\n",
       "\\hline\n",
       "\tC10 & 0 & 4.886505 & 22.32717 & 21.40125 &  7.655688\\\\\n",
       "\tC11 & 0 & 6.201921 & 32.12134 & 21.30293 & 17.794071\\\\\n",
       "\tC12 & 0 & 5.778473 & 20.78413 & 22.04342 & 13.325481\\\\\n",
       "\\end{tabular}\n"
      ],
      "text/markdown": [
       "\n",
       "A data.frame: 3 x 5\n",
       "\n",
       "| <!--/--> | Type &lt;dbl&gt; | FAM200B &lt;dbl&gt; | BCL2A1 &lt;dbl&gt; | IGJ &lt;dbl&gt; | TXN &lt;dbl&gt; |\n",
       "|---|---|---|---|---|---|\n",
       "| C10 | 0 | 4.886505 | 22.32717 | 21.40125 |  7.655688 |\n",
       "| C11 | 0 | 6.201921 | 32.12134 | 21.30293 | 17.794071 |\n",
       "| C12 | 0 | 5.778473 | 20.78413 | 22.04342 | 13.325481 |\n",
       "\n"
      ],
      "text/plain": [
       "    Type FAM200B  BCL2A1   IGJ      TXN      \n",
       "C10 0    4.886505 22.32717 21.40125  7.655688\n",
       "C11 0    6.201921 32.12134 21.30293 17.794071\n",
       "C12 0    5.778473 20.78413 22.04342 13.325481"
      ]
     },
     "metadata": {},
     "output_type": "display_data"
    }
   ],
   "source": [
    "head(dcaData,3)"
   ]
  },
  {
   "cell_type": "code",
   "execution_count": 5,
   "id": "940d25f2-ebc0-48e0-aa52-35f6b09bd09a",
   "metadata": {},
   "outputs": [
    {
     "name": "stderr",
     "output_type": "stream",
     "text": [
      "Warning message in system(\"timedatectl\", intern = TRUE):\n",
      "\"running command 'timedatectl' had status 1\"\n",
      "\n",
      "Attaching package: 'rmda'\n",
      "\n",
      "\n",
      "The following object is masked _by_ '.GlobalEnv':\n",
      "\n",
      "    dcaData\n",
      "\n",
      "\n",
      "Loading required package: ggplot2\n",
      "\n",
      "Warning message:\n",
      "\"package 'rms' was built under R version 4.2.3\"\n",
      "Loading required package: Hmisc\n",
      "\n",
      "\n",
      "Attaching package: 'Hmisc'\n",
      "\n",
      "\n",
      "The following objects are masked from 'package:dplyr':\n",
      "\n",
      "    src, summarize\n",
      "\n",
      "\n",
      "The following objects are masked from 'package:base':\n",
      "\n",
      "    format.pval, units\n",
      "\n",
      "\n",
      "Warning message:\n",
      "\"package 'caret' was built under R version 4.2.3\"\n",
      "Loading required package: lattice\n",
      "\n",
      "Warning message:\n",
      "\"package 'lattice' was built under R version 4.2.3\"\n"
     ]
    }
   ],
   "source": [
    "library(rmda)\n",
    "library(ggDCA)\n",
    "library(ggplot2)\n",
    "library(rms)\n",
    "library(caret)"
   ]
  },
  {
   "cell_type": "code",
   "execution_count": 6,
   "id": "ba76eabe-e35b-4bee-b33b-62d20dc63b32",
   "metadata": {},
   "outputs": [],
   "source": [
    "set.seed(123)\n",
    "FAM200B.model <- decision_curve(Type ~ FAM200B, data = dcaData,\n",
    "    thresholds = seq(0, 1, by = 0.005), bootstraps = 10)\n",
    "BCL2A1.model <- decision_curve(Type ~ BCL2A1, data = dcaData,\n",
    "    thresholds = seq(0, 1, by = 0.005), bootstraps = 10)\n",
    "IGJ.model <- decision_curve(Type ~ IGJ, data = dcaData,\n",
    "    thresholds = seq(0, 1, by = 0.005), bootstraps = 10)\n",
    "TXN.model <- decision_curve(Type ~ TXN, data = dcaData,\n",
    "    thresholds = seq(0, 1, by = 0.005), bootstraps = 10)\n"
   ]
  },
  {
   "cell_type": "code",
   "execution_count": 7,
   "id": "8b4ea2c6-8acf-452b-9516-9444cb1c7da7",
   "metadata": {},
   "outputs": [
    {
     "name": "stderr",
     "output_type": "stream",
     "text": [
      "Note:  The data provided is used to both fit a prediction model and to estimate the respective decision curve. This may cause bias in decision curve estimates leading to over-confidence in model performance. \n",
      "\n"
     ]
    }
   ],
   "source": [
    "set.seed(123)\n",
    "full.model <- decision_curve(Type~FAM200B+BCL2A1 +IGJ +TXN ,\n",
    "                             data = dcaData,\n",
    "                             thresholds = seq(0, 1, by = .005),\n",
    "                             bootstraps = 10)"
   ]
  },
  {
   "cell_type": "code",
   "execution_count": 8,
   "id": "7b713c12-1905-4a9b-8e08-ea15e6d4f2ca",
   "metadata": {},
   "outputs": [
    {
     "data": {
      "image/png": "[encoded data removed]",
      "text/plain": [
       "plot without title"
      ]
     },
     "metadata": {
      "image/png": {
       "height": 420,
       "width": 420
      }
     },
     "output_type": "display_data"
    }
   ],
   "source": [
    "plot_clinical_impact(full.model,col=c('green','red') ,confidence.intervals = F)"
   ]
  },
  {
   "cell_type": "code",
   "execution_count": 9,
   "id": "09d342bb-88a1-4d89-85cd-b068996f55b0",
   "metadata": {},
   "outputs": [
    {
     "data": {
      "text/html": [
       "<strong>png:</strong> 2"
      ],
      "text/latex": [
       "\\textbf{png:} 2"
      ],
      "text/markdown": [
       "**png:** 2"
      ],
      "text/plain": [
       "png \n",
       "  2 "
      ]
     },
     "metadata": {},
     "output_type": "display_data"
    }
   ],
   "source": [
    "pdf('./fig.re/CIC.pdf',width = 5,height = 5)\n",
    "plot_clinical_impact(full.model,col=c('green','red'))\n",
    "dev.off()"
   ]
  },
  {
   "cell_type": "code",
   "execution_count": null,
   "id": "2996a748-5149-4845-967d-0a43f37a01cf",
   "metadata": {},
   "outputs": [],
   "source": []
  }
 ],
 "metadata": {
  "kernelspec": {
   "display_name": "R",
   "language": "R",
   "name": "ir"
  },
  "language_info": {
   "codemirror_mode": "r",
   "file_extension": ".r",
   "mimetype": "text/x-r-source",
   "name": "R",
   "pygments_lexer": "r",
   "version": "4.2.1"
  }
 },
 "nbformat": 4,
 "nbformat_minor": 5
}
