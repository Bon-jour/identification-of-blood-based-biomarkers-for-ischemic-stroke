{
 "cells": [
  {
   "cell_type": "code",
   "execution_count": 1,
   "id": "8dec70ac-86fc-45ea-812e-a1993d9ecc6b",
   "metadata": {},
   "outputs": [],
   "source": [
    "setwd('/data/import/project1/momo-6.12.0.199/runtime/PIPELINE/taxonkit1/a.ji/data2/')"
   ]
  },
  {
   "cell_type": "code",
   "execution_count": 67,
   "id": "255be252-22d1-4d7d-9caf-05ba958bd14b",
   "metadata": {},
   "outputs": [
    {
     "data": {
      "text/html": [
       "<table class=\"dataframe\">\n",
       "<caption>A data.frame: 2 x 36</caption>\n",
       "<thead>\n",
       "\t<tr><th></th><th scope=col>Gene_name</th><th scope=col>C10</th><th scope=col>C11</th><th scope=col>C12</th><th scope=col>C13</th><th scope=col>C14</th><th scope=col>C15</th><th scope=col>C16</th><th scope=col>C17</th><th scope=col>C18</th><th scope=col>...</th><th scope=col>CI16</th><th scope=col>CI1</th><th scope=col>CI2</th><th scope=col>CI3</th><th scope=col>CI4</th><th scope=col>CI5</th><th scope=col>CI6</th><th scope=col>CI7</th><th scope=col>CI8</th><th scope=col>CI9</th></tr>\n",
       "\t<tr><th></th><th scope=col>&lt;chr&gt;</th><th scope=col>&lt;dbl&gt;</th><th scope=col>&lt;dbl&gt;</th><th scope=col>&lt;dbl&gt;</th><th scope=col>&lt;dbl&gt;</th><th scope=col>&lt;dbl&gt;</th><th scope=col>&lt;dbl&gt;</th><th scope=col>&lt;dbl&gt;</th><th scope=col>&lt;dbl&gt;</th><th scope=col>&lt;dbl&gt;</th><th scope=col>...</th><th scope=col>&lt;dbl&gt;</th><th scope=col>&lt;dbl&gt;</th><th scope=col>&lt;dbl&gt;</th><th scope=col>&lt;dbl&gt;</th><th scope=col>&lt;dbl&gt;</th><th scope=col>&lt;dbl&gt;</th><th scope=col>&lt;dbl&gt;</th><th scope=col>&lt;dbl&gt;</th><th scope=col>&lt;dbl&gt;</th><th scope=col>&lt;dbl&gt;</th></tr>\n",
       "</thead>\n",
       "<tbody>\n",
       "\t<tr><th scope=row>1</th><td>ZNF480 </td><td>3.046852</td><td>2.959276</td><td>1.924806</td><td>2.086426</td><td>2.358436</td><td>2.745877</td><td>2.273106</td><td>3.353977</td><td>2.609238</td><td>...</td><td>5.532627</td><td>2.837813</td><td>4.141639</td><td>4.735136</td><td>6.489764</td><td>2.851674</td><td>3.680329</td><td> 7.985714</td><td>4.003843</td><td>2.993553</td></tr>\n",
       "\t<tr><th scope=row>2</th><td>ZNF354A</td><td>2.455682</td><td>2.209675</td><td>1.816189</td><td>2.385620</td><td>3.191194</td><td>3.338612</td><td>2.912866</td><td>3.386982</td><td>3.372144</td><td>...</td><td>4.964052</td><td>5.852160</td><td>2.514873</td><td>5.180209</td><td>5.847872</td><td>4.679571</td><td>3.423737</td><td>11.670074</td><td>4.470493</td><td>4.790598</td></tr>\n",
       "</tbody>\n",
       "</table>\n"
      ],
      "text/latex": [
       "A data.frame: 2 x 36\n",
       "\\begin{tabular}{r|lllllllllllllllllllll}\n",
       "  & Gene\\_name & C10 & C11 & C12 & C13 & C14 & C15 & C16 & C17 & C18 & ... & CI16 & CI1 & CI2 & CI3 & CI4 & CI5 & CI6 & CI7 & CI8 & CI9\\\\\n",
       "  & <chr> & <dbl> & <dbl> & <dbl> & <dbl> & <dbl> & <dbl> & <dbl> & <dbl> & <dbl> & ... & <dbl> & <dbl> & <dbl> & <dbl> & <dbl> & <dbl> & <dbl> & <dbl> & <dbl> & <dbl>\\\\\n",
       "\\hline\n",
       "\t1 & ZNF480  & 3.046852 & 2.959276 & 1.924806 & 2.086426 & 2.358436 & 2.745877 & 2.273106 & 3.353977 & 2.609238 & ... & 5.532627 & 2.837813 & 4.141639 & 4.735136 & 6.489764 & 2.851674 & 3.680329 &  7.985714 & 4.003843 & 2.993553\\\\\n",
       "\t2 & ZNF354A & 2.455682 & 2.209675 & 1.816189 & 2.385620 & 3.191194 & 3.338612 & 2.912866 & 3.386982 & 3.372144 & ... & 4.964052 & 5.852160 & 2.514873 & 5.180209 & 5.847872 & 4.679571 & 3.423737 & 11.670074 & 4.470493 & 4.790598\\\\\n",
       "\\end{tabular}\n"
      ],
      "text/markdown": [
       "\n",
       "A data.frame: 2 x 36\n",
       "\n",
       "| <!--/--> | Gene_name &lt;chr&gt; | C10 &lt;dbl&gt; | C11 &lt;dbl&gt; | C12 &lt;dbl&gt; | C13 &lt;dbl&gt; | C14 &lt;dbl&gt; | C15 &lt;dbl&gt; | C16 &lt;dbl&gt; | C17 &lt;dbl&gt; | C18 &lt;dbl&gt; | ... ... | CI16 &lt;dbl&gt; | CI1 &lt;dbl&gt; | CI2 &lt;dbl&gt; | CI3 &lt;dbl&gt; | CI4 &lt;dbl&gt; | CI5 &lt;dbl&gt; | CI6 &lt;dbl&gt; | CI7 &lt;dbl&gt; | CI8 &lt;dbl&gt; | CI9 &lt;dbl&gt; |\n",
       "|---|---|---|---|---|---|---|---|---|---|---|---|---|---|---|---|---|---|---|---|---|---|\n",
       "| 1 | ZNF480  | 3.046852 | 2.959276 | 1.924806 | 2.086426 | 2.358436 | 2.745877 | 2.273106 | 3.353977 | 2.609238 | ... | 5.532627 | 2.837813 | 4.141639 | 4.735136 | 6.489764 | 2.851674 | 3.680329 |  7.985714 | 4.003843 | 2.993553 |\n",
       "| 2 | ZNF354A | 2.455682 | 2.209675 | 1.816189 | 2.385620 | 3.191194 | 3.338612 | 2.912866 | 3.386982 | 3.372144 | ... | 4.964052 | 5.852160 | 2.514873 | 5.180209 | 5.847872 | 4.679571 | 3.423737 | 11.670074 | 4.470493 | 4.790598 |\n",
       "\n"
      ],
      "text/plain": [
       "  Gene_name C10      C11      C12      C13      C14      C15      C16     \n",
       "1 ZNF480    3.046852 2.959276 1.924806 2.086426 2.358436 2.745877 2.273106\n",
       "2 ZNF354A   2.455682 2.209675 1.816189 2.385620 3.191194 3.338612 2.912866\n",
       "  C17      C18      ... CI16     CI1      CI2      CI3      CI4      CI5     \n",
       "1 3.353977 2.609238 ... 5.532627 2.837813 4.141639 4.735136 6.489764 2.851674\n",
       "2 3.386982 3.372144 ... 4.964052 5.852160 2.514873 5.180209 5.847872 4.679571\n",
       "  CI6      CI7       CI8      CI9     \n",
       "1 3.680329  7.985714 4.003843 2.993553\n",
       "2 3.423737 11.670074 4.470493 4.790598"
      ]
     },
     "metadata": {},
     "output_type": "display_data"
    }
   ],
   "source": [
    "library(openxlsx)\n",
    "\n",
    "data<- read.xlsx(\"./res/CI-CTR/bulk/25-mRNA_FPKM.genename.xlsx\", sheet = 1)\n",
    "\n",
    "head(data,2)\n",
    "\n",
    "overla = read.table('./overlap.txt',header =T)\n",
    "\n",
    "library(dplyr)\n",
    "\n",
    "expr = data %>%  dplyr::filter(Gene_name %in%  overla$GeneName) %>%  tibble::column_to_rownames(.,'Gene_name') %>%  t()\n",
    "\n",
    "# rownames(expr)\n",
    "\n",
    "\n",
    "\n",
    "# Group = c(rep('con',19),rep('CI',16))\n",
    "\n",
    "# colnames(expr) = gsub('-','.',colnames(expr))\n",
    "\n",
    "# colnames(expr)\n",
    "\n",
    "\n",
    "\n",
    "# set.seed(1234)\n",
    "\n",
    "# expr = as.data.frame(apply(expr,2,as.numeric))\n",
    "\n",
    "# expr3 = as.data.frame(cbind(Group,expr))\n",
    "\n",
    "# expr3$Group = ifelse(expr3$Group == 'CI',1,0)\n",
    "\n",
    "# expr3$Group = as.factor(expr3$Group)\n",
    "\n",
    "#  model.gene =  c('FAM200B','BCL2A1','IGJ','TXN')\n",
    "\n",
    "# expr4 = expr3 %>% dplyr::select(c(Group,model.gene))\n",
    "\n",
    "# dim(expr4)\n",
    "\n",
    "# head(expr4,4)"
   ]
  },
  {
   "cell_type": "code",
   "execution_count": 69,
   "id": "7178aa7a-cdc8-469d-a478-2ba7ec118dcd",
   "metadata": {},
   "outputs": [],
   "source": [
    "da2 = expr[, c('FAM200B','BCL2A1','IGJ','TXN')]"
   ]
  },
  {
   "cell_type": "code",
   "execution_count": 72,
   "id": "d3d4fea7-1962-40ad-9be0-018aef44728e",
   "metadata": {},
   "outputs": [],
   "source": [
    "da2 = da2 %>% as.data.frame() %>%  tibble::rownames_to_column(.,'sample')"
   ]
  },
  {
   "cell_type": "code",
   "execution_count": 73,
   "id": "1a363d8f-c74c-4f6f-9cbf-945b15255144",
   "metadata": {},
   "outputs": [
    {
     "data": {
      "text/html": [
       "<table class=\"dataframe\">\n",
       "<caption>A data.frame: 2 x 5</caption>\n",
       "<thead>\n",
       "\t<tr><th></th><th scope=col>sample</th><th scope=col>FAM200B</th><th scope=col>BCL2A1</th><th scope=col>IGJ</th><th scope=col>TXN</th></tr>\n",
       "\t<tr><th></th><th scope=col>&lt;chr&gt;</th><th scope=col>&lt;dbl&gt;</th><th scope=col>&lt;dbl&gt;</th><th scope=col>&lt;dbl&gt;</th><th scope=col>&lt;dbl&gt;</th></tr>\n",
       "</thead>\n",
       "<tbody>\n",
       "\t<tr><th scope=row>1</th><td>C10</td><td>3.180684</td><td>11.13562</td><td>16.57097</td><td> 7.650115</td></tr>\n",
       "\t<tr><th scope=row>2</th><td>C11</td><td>4.212774</td><td>20.99854</td><td>15.63976</td><td>10.409828</td></tr>\n",
       "</tbody>\n",
       "</table>\n"
      ],
      "text/latex": [
       "A data.frame: 2 x 5\n",
       "\\begin{tabular}{r|lllll}\n",
       "  & sample & FAM200B & BCL2A1 & IGJ & TXN\\\\\n",
       "  & <chr> & <dbl> & <dbl> & <dbl> & <dbl>\\\\\n",
       "\\hline\n",
       "\t1 & C10 & 3.180684 & 11.13562 & 16.57097 &  7.650115\\\\\n",
       "\t2 & C11 & 4.212774 & 20.99854 & 15.63976 & 10.409828\\\\\n",
       "\\end{tabular}\n"
      ],
      "text/markdown": [
       "\n",
       "A data.frame: 2 x 5\n",
       "\n",
       "| <!--/--> | sample &lt;chr&gt; | FAM200B &lt;dbl&gt; | BCL2A1 &lt;dbl&gt; | IGJ &lt;dbl&gt; | TXN &lt;dbl&gt; |\n",
       "|---|---|---|---|---|---|\n",
       "| 1 | C10 | 3.180684 | 11.13562 | 16.57097 |  7.650115 |\n",
       "| 2 | C11 | 4.212774 | 20.99854 | 15.63976 | 10.409828 |\n",
       "\n"
      ],
      "text/plain": [
       "  sample FAM200B  BCL2A1   IGJ      TXN      \n",
       "1 C10    3.180684 11.13562 16.57097  7.650115\n",
       "2 C11    4.212774 20.99854 15.63976 10.409828"
      ]
     },
     "metadata": {},
     "output_type": "display_data"
    }
   ],
   "source": [
    "head(da2,2)"
   ]
  },
  {
   "cell_type": "code",
   "execution_count": 74,
   "id": "cd2a4ae8-e96d-4894-8820-dd01580d290d",
   "metadata": {},
   "outputs": [
    {
     "data": {
      "text/html": [
       "<style>\n",
       ".list-inline {list-style: none; margin:0; padding: 0}\n",
       ".list-inline>li {display: inline-block}\n",
       ".list-inline>li:not(:last-child)::after {content: \"\\00b7\"; padding: 0 .5ex}\n",
       "</style>\n",
       "<ol class=list-inline><li>'C10'</li><li>'C11'</li><li>'C12'</li><li>'C13'</li><li>'C14'</li><li>'C15'</li><li>'C16'</li><li>'C17'</li><li>'C18'</li><li>'C19'</li><li>'C1'</li><li>'C2'</li><li>'C3'</li><li>'C4'</li><li>'C5'</li><li>'C6'</li><li>'C7'</li><li>'C8'</li><li>'C9'</li><li>'CI10'</li><li>'CI11'</li><li>'CI12'</li><li>'CI13'</li><li>'CI14'</li><li>'CI15'</li><li>'CI16'</li><li>'CI1'</li><li>'CI2'</li><li>'CI3'</li><li>'CI4'</li><li>'CI5'</li><li>'CI6'</li><li>'CI7'</li><li>'CI8'</li><li>'CI9'</li></ol>\n"
      ],
      "text/latex": [
       "\\begin{enumerate*}\n",
       "\\item 'C10'\n",
       "\\item 'C11'\n",
       "\\item 'C12'\n",
       "\\item 'C13'\n",
       "\\item 'C14'\n",
       "\\item 'C15'\n",
       "\\item 'C16'\n",
       "\\item 'C17'\n",
       "\\item 'C18'\n",
       "\\item 'C19'\n",
       "\\item 'C1'\n",
       "\\item 'C2'\n",
       "\\item 'C3'\n",
       "\\item 'C4'\n",
       "\\item 'C5'\n",
       "\\item 'C6'\n",
       "\\item 'C7'\n",
       "\\item 'C8'\n",
       "\\item 'C9'\n",
       "\\item 'CI10'\n",
       "\\item 'CI11'\n",
       "\\item 'CI12'\n",
       "\\item 'CI13'\n",
       "\\item 'CI14'\n",
       "\\item 'CI15'\n",
       "\\item 'CI16'\n",
       "\\item 'CI1'\n",
       "\\item 'CI2'\n",
       "\\item 'CI3'\n",
       "\\item 'CI4'\n",
       "\\item 'CI5'\n",
       "\\item 'CI6'\n",
       "\\item 'CI7'\n",
       "\\item 'CI8'\n",
       "\\item 'CI9'\n",
       "\\end{enumerate*}\n"
      ],
      "text/markdown": [
       "1. 'C10'\n",
       "2. 'C11'\n",
       "3. 'C12'\n",
       "4. 'C13'\n",
       "5. 'C14'\n",
       "6. 'C15'\n",
       "7. 'C16'\n",
       "8. 'C17'\n",
       "9. 'C18'\n",
       "10. 'C19'\n",
       "11. 'C1'\n",
       "12. 'C2'\n",
       "13. 'C3'\n",
       "14. 'C4'\n",
       "15. 'C5'\n",
       "16. 'C6'\n",
       "17. 'C7'\n",
       "18. 'C8'\n",
       "19. 'C9'\n",
       "20. 'CI10'\n",
       "21. 'CI11'\n",
       "22. 'CI12'\n",
       "23. 'CI13'\n",
       "24. 'CI14'\n",
       "25. 'CI15'\n",
       "26. 'CI16'\n",
       "27. 'CI1'\n",
       "28. 'CI2'\n",
       "29. 'CI3'\n",
       "30. 'CI4'\n",
       "31. 'CI5'\n",
       "32. 'CI6'\n",
       "33. 'CI7'\n",
       "34. 'CI8'\n",
       "35. 'CI9'\n",
       "\n",
       "\n"
      ],
      "text/plain": [
       " [1] \"C10\"  \"C11\"  \"C12\"  \"C13\"  \"C14\"  \"C15\"  \"C16\"  \"C17\"  \"C18\"  \"C19\" \n",
       "[11] \"C1\"   \"C2\"   \"C3\"   \"C4\"   \"C5\"   \"C6\"   \"C7\"   \"C8\"   \"C9\"   \"CI10\"\n",
       "[21] \"CI11\" \"CI12\" \"CI13\" \"CI14\" \"CI15\" \"CI16\" \"CI1\"  \"CI2\"  \"CI3\"  \"CI4\" \n",
       "[31] \"CI5\"  \"CI6\"  \"CI7\"  \"CI8\"  \"CI9\" "
      ]
     },
     "metadata": {},
     "output_type": "display_data"
    }
   ],
   "source": [
    "da2$sample"
   ]
  },
  {
   "cell_type": "code",
   "execution_count": 75,
   "id": "cc2a54eb-645c-492a-a03e-5a5d5860c9fa",
   "metadata": {},
   "outputs": [],
   "source": [
    "da2$Group = c(rep(0,19),rep(1,16))"
   ]
  },
  {
   "cell_type": "code",
   "execution_count": 77,
   "id": "10747725-5479-475f-95c4-21b69f4c2347",
   "metadata": {},
   "outputs": [],
   "source": [
    "da2$Group = as.factor(da2$Group)"
   ]
  },
  {
   "cell_type": "code",
   "execution_count": 78,
   "id": "d6748c61-b27b-4469-8f56-9123cf8a4c5e",
   "metadata": {},
   "outputs": [
    {
     "data": {
      "image/png": "[encoded data removed]",
      "text/plain": [
       "plot without title"
      ]
     },
     "metadata": {
      "image/png": {
       "height": 420,
       "width": 420
      }
     },
     "output_type": "display_data"
    }
   ],
   "source": [
    "data = da2[,c('Group','FAM200B','BCL2A1','IGJ','TXN')]\n",
    "\n",
    "fold_pre <- glm(Group~.,data=data,family=binomial())\n",
    "fold_predict <- predict(fold_pre,type='response',newdata=data)\n",
    "\n",
    "library(pROC)\n",
    "rocobj1 <- plot.roc(data$Group, data$BCL2A1,percent=TRUE, levels=c(0,1),direction=\"<\",col=\"#1c61b6\")\n",
    "rocobj2 <- lines.roc(data$Group, data$FAM200B,percent=TRUE, levels=c(0,1),direction=\"<\", col=\"#008600\")\n",
    "rocobj3 <- lines.roc(data$Group, data$IGJ,percent=TRUE, levels=c(0,1),direction=\"<\", col=\"#9C6D35\")\n",
    "rocobj4 <- lines.roc(data$Group, data$TXN,percent=TRUE, levels=c(0,1),direction=\"<\", col=\"#9F1A70\")\n",
    "rocobj5 <- lines.roc(data$Group, fold_predict,percent=TRUE, levels=c(0,1),direction=\"<\", col=\"#491A9F\")\n",
    "legend(\"right\", legend=c(paste0(\"BCL2A1 \", round(rocobj1$auc/100,digits = 2)),\n",
    "                               paste0(\"FAM200B \", round(rocobj2$auc/100,digits = 2)),\n",
    "                               paste0(\"IGJ \", round(rocobj3$auc/100,digits = 2)),\n",
    "                               paste0(\"TXN \", round(rocobj4$auc/100,digits = 2)),\n",
    "                               paste0(\"fold_predict \", round(rocobj5$auc/100,digits = 2))),\n",
    "       col=c(\"#1c61b6\", \"#008600\",\"#9C6D35\",\"#9F1A70\",\"#491A9F\"), lwd=1)"
   ]
  },
  {
   "cell_type": "code",
   "execution_count": 79,
   "id": "010def02-66e4-4c8e-ab34-e29d6fac6056",
   "metadata": {},
   "outputs": [],
   "source": [
    "cli74 = read.table('./sample35.cli.txt',header =T,sep = '\\t') "
   ]
  },
  {
   "cell_type": "code",
   "execution_count": 80,
   "id": "9736dbe9-0174-4843-950c-6d2633e9e0b6",
   "metadata": {},
   "outputs": [],
   "source": [
    "da4 = da2 %>% dplyr::filter(sample %in% cli74$sample)"
   ]
  },
  {
   "cell_type": "code",
   "execution_count": 81,
   "id": "aacf8993-1d94-4336-9bbe-4ff7aa38d15b",
   "metadata": {},
   "outputs": [],
   "source": [
    "da5 = merge(da4,cli74,by = 'sample')\n",
    "dat6 = da5[,c('group','sex','age','BMI','FAM200B','BCL2A1','IGJ','TXN')]"
   ]
  },
  {
   "cell_type": "code",
   "execution_count": 83,
   "id": "7e6ed077-e09a-4008-908c-3e5380094221",
   "metadata": {},
   "outputs": [],
   "source": [
    "dat6$group = ifelse(dat6$group == 'CTR',0,1)"
   ]
  },
  {
   "cell_type": "code",
   "execution_count": 85,
   "id": "4d3b7e9c-9449-4c2a-ac7c-ea65fdbf1039",
   "metadata": {},
   "outputs": [],
   "source": [
    "dat6$group = as.factor(dat6$group)"
   ]
  },
  {
   "cell_type": "code",
   "execution_count": null,
   "id": "897d7367-02b3-47c8-9847-c7192a39378f",
   "metadata": {
    "jupyter": {
     "source_hidden": true
    }
   },
   "outputs": [],
   "source": []
  },
  {
   "cell_type": "code",
   "execution_count": 96,
   "id": "9f918531-db64-4b44-85ce-1edda2d7b938",
   "metadata": {},
   "outputs": [
    {
     "ename": "ERROR",
     "evalue": "Error in parse(text = x, srcfile = src): <text>:16:0: unexpected end of input\n14:                                paste0(\"fold_predict \", round(rocobj5$auc/100,digits = 2)),\n15:        col=c(\"#1c61b6\", \"#008600\",\"#9C6D35\",\"#9F1A70\",\"#491A9F\"), lwd=1)\n   ^\n",
     "output_type": "error",
     "traceback": [
      "Error in parse(text = x, srcfile = src): <text>:16:0: unexpected end of input\n14:                                paste0(\"fold_predict \", round(rocobj5$auc/100,digits = 2)),\n15:        col=c(\"#1c61b6\", \"#008600\",\"#9C6D35\",\"#9F1A70\",\"#491A9F\"), lwd=1)\n   ^\nTraceback:\n"
     ]
    }
   ],
   "source": [
    "fold_pre <- glm(group~sex+age+BMI,data=dat6,family=binomial())\n",
    "fold_predict <- predict(fold_pre,type='response',newdata=dat6)\n",
    "library(pROC)\n",
    "# rocobj1 <- plot.roc(dat6$group, data$BCL2A1,percent=TRUE, levels=c(0,1),direction=\"<\",col=\"#1c61b6\")\n",
    "# rocobj2 <- lines.roc(dat6$group, data$FAM200B,percent=TRUE, levels=c(0,1),direction=\"<\", col=\"#008600\")\n",
    "# rocobj3 <- lines.roc(dat6$group, data$IGJ,percent=TRUE, levels=c(0,1),direction=\"<\", col=\"#9C6D35\")\n",
    "# rocobj4 <- lines.roc(dat6$group, data$TXN,percent=TRUE, levels=c(0,1),direction=\"<\", col=\"#9F1A70\")\n",
    "rocobj5 <- lines.roc(dat6$group, fold_predict,percent=TRUE, levels=c(0,1),direction=\"<\", col=\"#491A9F\")\n",
    "legend(\"right\", legend=c(paste0(\n",
    "    # \"BCL2A1 \", round(rocobj1$auc/100,digits = 2)),\n",
    "    #                            paste0(\"FAM200B \", round(rocobj2$auc/100,digits = 2)),\n",
    "    #                            paste0(\"IGJ \", round(rocobj3$auc/100,digits = 2)),\n",
    "    #                            paste0(\"TXN \", round(rocobj4$auc/100,digits = 2)),\n",
    "                               paste0(\"fold_predict \", round(rocobj5$auc/100,digits = 2))),\n",
    "       col=c(\"#1c61b6\", \"#008600\",\"#9C6D35\",\"#9F1A70\",\"#491A9F\"), lwd=1)"
   ]
  },
  {
   "cell_type": "code",
   "execution_count": 107,
   "id": "b438d202-af1d-46d9-a4ec-f7138e847a92",
   "metadata": {},
   "outputs": [
    {
     "data": {
      "image/png": "[encoded data removed]",
      "text/plain": [
       "plot without title"
      ]
     },
     "metadata": {
      "image/png": {
       "height": 420,
       "width": 420
      }
     },
     "output_type": "display_data"
    }
   ],
   "source": [
    "rocobj1 <- plot.roc(dat6$group,fold_predict,percent=TRUE, levels=c(0,1),direction=\"<\",col=\"#1c61b6\")\n",
    "legend(\"right\", legend=\"AUC of After Correct: 0.99\", col=c(\"#491A9F\"))"
   ]
  },
  {
   "cell_type": "code",
   "execution_count": 108,
   "id": "6749f749-ce12-4bda-b7dd-b522dc6ba498",
   "metadata": {},
   "outputs": [
    {
     "data": {
      "text/html": [
       "<strong>png:</strong> 2"
      ],
      "text/latex": [
       "\\textbf{png:} 2"
      ],
      "text/markdown": [
       "**png:** 2"
      ],
      "text/plain": [
       "png \n",
       "  2 "
      ]
     },
     "metadata": {},
     "output_type": "display_data"
    }
   ],
   "source": [
    "pdf('./fig/ROC-vali-QC.pdf',width = 6,height = 6)\n",
    "rocobj1 <- plot.roc(dat6$group,fold_predict,percent=TRUE, levels=c(0,1),direction=\"<\",col=\"#1c61b6\")\n",
    "legend(\"right\", legend=\"AUC of After Correct: 0.99\", col=c(\"#491A9F\"))\n",
    "dev.off()"
   ]
  },
  {
   "cell_type": "code",
   "execution_count": null,
   "id": "6ea3cece-49bc-46f3-bac3-6529100fd4cc",
   "metadata": {},
   "outputs": [],
   "source": []
  }
 ],
 "metadata": {
  "kernelspec": {
   "display_name": "R",
   "language": "R",
   "name": "ir"
  },
  "language_info": {
   "codemirror_mode": "r",
   "file_extension": ".r",
   "mimetype": "text/x-r-source",
   "name": "R",
   "pygments_lexer": "r",
   "version": "4.2.1"
  }
 },
 "nbformat": 4,
 "nbformat_minor": 5
}
